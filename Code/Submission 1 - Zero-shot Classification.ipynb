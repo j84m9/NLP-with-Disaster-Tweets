{
 "cells": [
  {
   "cell_type": "code",
   "execution_count": 1,
   "id": "c756a5ca-13c4-4bcc-ba63-f484338837b1",
   "metadata": {
    "tags": []
   },
   "outputs": [],
   "source": [
    "import warnings\n",
    "warnings.filterwarnings('ignore')\n",
    "\n",
    "import pandas as pd\n",
    "from transformers import pipeline"
   ]
  },
  {
   "cell_type": "code",
   "execution_count": 2,
   "id": "b7cf930e-074a-4f2c-81be-eb09fc8a7200",
   "metadata": {
    "tags": []
   },
   "outputs": [],
   "source": [
    "import os\n",
    "\n",
    "# Ensure that PyTorch can use all CPU cores\n",
    "os.environ[\"OMP_NUM_THREADS\"] = str(os.cpu_count())  # Set the number of threads to the number of available CPU cores\n",
    "os.environ[\"MKL_NUM_THREADS\"] = str(os.cpu_count())  # For NumPy-related operations"
   ]
  },
  {
   "cell_type": "code",
   "execution_count": 3,
   "id": "4d4b6165-27a3-4158-914a-d4eff0d3f413",
   "metadata": {
    "tags": []
   },
   "outputs": [],
   "source": [
    "#E.g. using the zero-shot-classification pipeline\n",
    "classifier=pipeline(\"zero-shot-classification\", model=\"facebook/bart-large-mnli\", device=-1)"
   ]
  },
  {
   "cell_type": "code",
   "execution_count": 5,
   "id": "bf023ce2-767e-42ff-96e2-2ca0e92f5a79",
   "metadata": {
    "tags": []
   },
   "outputs": [
    {
     "data": {
      "text/html": [
       "<div>\n",
       "<style scoped>\n",
       "    .dataframe tbody tr th:only-of-type {\n",
       "        vertical-align: middle;\n",
       "    }\n",
       "\n",
       "    .dataframe tbody tr th {\n",
       "        vertical-align: top;\n",
       "    }\n",
       "\n",
       "    .dataframe thead th {\n",
       "        text-align: right;\n",
       "    }\n",
       "</style>\n",
       "<table border=\"1\" class=\"dataframe\">\n",
       "  <thead>\n",
       "    <tr style=\"text-align: right;\">\n",
       "      <th></th>\n",
       "      <th>id</th>\n",
       "      <th>keyword</th>\n",
       "      <th>location</th>\n",
       "      <th>text</th>\n",
       "    </tr>\n",
       "  </thead>\n",
       "  <tbody>\n",
       "    <tr>\n",
       "      <th>0</th>\n",
       "      <td>0</td>\n",
       "      <td>NaN</td>\n",
       "      <td>NaN</td>\n",
       "      <td>Just happened a terrible car crash</td>\n",
       "    </tr>\n",
       "    <tr>\n",
       "      <th>1</th>\n",
       "      <td>2</td>\n",
       "      <td>NaN</td>\n",
       "      <td>NaN</td>\n",
       "      <td>Heard about #earthquake is different cities, s...</td>\n",
       "    </tr>\n",
       "    <tr>\n",
       "      <th>2</th>\n",
       "      <td>3</td>\n",
       "      <td>NaN</td>\n",
       "      <td>NaN</td>\n",
       "      <td>there is a forest fire at spot pond, geese are...</td>\n",
       "    </tr>\n",
       "    <tr>\n",
       "      <th>3</th>\n",
       "      <td>9</td>\n",
       "      <td>NaN</td>\n",
       "      <td>NaN</td>\n",
       "      <td>Apocalypse lighting. #Spokane #wildfires</td>\n",
       "    </tr>\n",
       "    <tr>\n",
       "      <th>4</th>\n",
       "      <td>11</td>\n",
       "      <td>NaN</td>\n",
       "      <td>NaN</td>\n",
       "      <td>Typhoon Soudelor kills 28 in China and Taiwan</td>\n",
       "    </tr>\n",
       "  </tbody>\n",
       "</table>\n",
       "</div>"
      ],
      "text/plain": [
       "   id keyword location                                               text\n",
       "0   0     NaN      NaN                 Just happened a terrible car crash\n",
       "1   2     NaN      NaN  Heard about #earthquake is different cities, s...\n",
       "2   3     NaN      NaN  there is a forest fire at spot pond, geese are...\n",
       "3   9     NaN      NaN           Apocalypse lighting. #Spokane #wildfires\n",
       "4  11     NaN      NaN      Typhoon Soudelor kills 28 in China and Taiwan"
      ]
     },
     "execution_count": 5,
     "metadata": {},
     "output_type": "execute_result"
    }
   ],
   "source": [
    "#For now we won't do any model fine-tuning and simply use the test dataset to classify\n",
    "\n",
    "#Loading test dataset -- path will have to be changed here.\n",
    "test = pd.read_csv(\"./test.csv\")\n",
    "test.head()\n",
    "\n",
    "#test.csv can be downloaded from: https://www.kaggle.com/competitions/nlp-getting-started/data"
   ]
  },
  {
   "cell_type": "code",
   "execution_count": null,
   "id": "f1c1e0ae-0364-46a9-9803-83acb5ca752c",
   "metadata": {},
   "outputs": [],
   "source": [
    "# Predicted labels using our zero-shot classification model\n",
    "output = classifier(\n",
    "    test.text.to_list(),\n",
    "    candidate_labels = [\"disaster\",\"not disaster\"],\n",
    ")\n",
    "\n",
    "labels = [i['labels'][0] for i in output]\n",
    "labels = pd.Series(labels).map({'disaster':1,'not disaster': 0}).to_list()"
   ]
  },
  {
   "cell_type": "code",
   "execution_count": null,
   "id": "47b55d20-bf69-40b4-b8eb-ada2813e2031",
   "metadata": {},
   "outputs": [],
   "source": [
    "#Creating and saving csv that can be submitted to the kaggle competition\n",
    "kaggle_submission = pd.read_csv(\"./NLP - Disaster Tweets/sample_submission.csv\")\n",
    "kaggle_submission.target = labels\n",
    "kaggle_submission.to_csv(\"zero_shot_no_preprocessing_text_column_only.csv\",index=False)\n",
    "\n",
    "#sample_submission.csv can be downloaded from: https://www.kaggle.com/competitions/nlp-getting-started/data"
   ]
  }
 ],
 "metadata": {
  "kernelspec": {
   "display_name": "Python 3 (ipykernel)",
   "language": "python",
   "name": "python3"
  },
  "language_info": {
   "codemirror_mode": {
    "name": "ipython",
    "version": 3
   },
   "file_extension": ".py",
   "mimetype": "text/x-python",
   "name": "python",
   "nbconvert_exporter": "python",
   "pygments_lexer": "ipython3",
   "version": "3.10.13"
  }
 },
 "nbformat": 4,
 "nbformat_minor": 5
}
