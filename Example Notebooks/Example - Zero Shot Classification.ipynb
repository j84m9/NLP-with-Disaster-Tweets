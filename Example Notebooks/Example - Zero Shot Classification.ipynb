{
 "cells": [
  {
   "cell_type": "code",
   "execution_count": 1,
   "id": "f4e0b680-a07a-42bc-8012-45b641814eb8",
   "metadata": {
    "tags": []
   },
   "outputs": [],
   "source": [
    "import warnings\n",
    "warnings.filterwarnings('ignore')\n",
    "\n",
    "import pandas as pd\n",
    "from transformers import pipeline"
   ]
  },
  {
   "cell_type": "code",
   "execution_count": 2,
   "id": "287979a8-9bc9-485c-bf8b-a0e11105a922",
   "metadata": {
    "tags": []
   },
   "outputs": [],
   "source": [
    "import os\n",
    "\n",
    "# Ensure that PyTorch can use all CPU cores\n",
    "os.environ[\"OMP_NUM_THREADS\"] = str(os.cpu_count())  # Set the number of threads to the number of available CPU cores\n",
    "os.environ[\"MKL_NUM_THREADS\"] = str(os.cpu_count())  # For NumPy-related operations"
   ]
  },
  {
   "cell_type": "code",
   "execution_count": 3,
   "id": "2e0cdd71-5fd6-400e-9cad-6fb8fd5c38f4",
   "metadata": {
    "tags": []
   },
   "outputs": [],
   "source": [
    "#E.g. using the zero-shot-classification pipeline\n",
    "classifier=pipeline(\"zero-shot-classification\", model=\"facebook/bart-large-mnli\", device=-1)"
   ]
  },
  {
   "cell_type": "code",
   "execution_count": 4,
   "id": "d80b4096-3da0-403a-b2fc-8e5bf230a518",
   "metadata": {
    "tags": []
   },
   "outputs": [
    {
     "data": {
      "text/html": [
       "<div>\n",
       "<style scoped>\n",
       "    .dataframe tbody tr th:only-of-type {\n",
       "        vertical-align: middle;\n",
       "    }\n",
       "\n",
       "    .dataframe tbody tr th {\n",
       "        vertical-align: top;\n",
       "    }\n",
       "\n",
       "    .dataframe thead th {\n",
       "        text-align: right;\n",
       "    }\n",
       "</style>\n",
       "<table border=\"1\" class=\"dataframe\">\n",
       "  <thead>\n",
       "    <tr style=\"text-align: right;\">\n",
       "      <th></th>\n",
       "      <th>Text</th>\n",
       "      <th>Hand_Labels</th>\n",
       "    </tr>\n",
       "  </thead>\n",
       "  <tbody>\n",
       "    <tr>\n",
       "      <th>0</th>\n",
       "      <td>A tornado just hit New York.</td>\n",
       "      <td>1</td>\n",
       "    </tr>\n",
       "    <tr>\n",
       "      <th>1</th>\n",
       "      <td>Donald Trump is running for president.</td>\n",
       "      <td>0</td>\n",
       "    </tr>\n",
       "  </tbody>\n",
       "</table>\n",
       "</div>"
      ],
      "text/plain": [
       "                                     Text  Hand_Labels\n",
       "0            A tornado just hit New York.            1\n",
       "1  Donald Trump is running for president.            0"
      ]
     },
     "execution_count": 4,
     "metadata": {},
     "output_type": "execute_result"
    }
   ],
   "source": [
    "#Create an example dataframe. Here, 1 corresponds to disaster, 0 to no disaster.\n",
    "df = pd.DataFrame([\"A tornado just hit New York.\", \"Donald Trump is running for president.\"], columns=[\"Text\"])\n",
    "df['Hand_Labels'] = [1, 0]\n",
    "\n",
    "df"
   ]
  },
  {
   "cell_type": "code",
   "execution_count": 12,
   "id": "98752938-4f0b-494d-997c-f59e6586f5dd",
   "metadata": {
    "tags": []
   },
   "outputs": [
    {
     "data": {
      "text/html": [
       "<div>\n",
       "<style scoped>\n",
       "    .dataframe tbody tr th:only-of-type {\n",
       "        vertical-align: middle;\n",
       "    }\n",
       "\n",
       "    .dataframe tbody tr th {\n",
       "        vertical-align: top;\n",
       "    }\n",
       "\n",
       "    .dataframe thead th {\n",
       "        text-align: right;\n",
       "    }\n",
       "</style>\n",
       "<table border=\"1\" class=\"dataframe\">\n",
       "  <thead>\n",
       "    <tr style=\"text-align: right;\">\n",
       "      <th></th>\n",
       "      <th>Text</th>\n",
       "      <th>Hand_Labels</th>\n",
       "      <th>Predicted_Labels</th>\n",
       "    </tr>\n",
       "  </thead>\n",
       "  <tbody>\n",
       "    <tr>\n",
       "      <th>0</th>\n",
       "      <td>A tornado just hit New York.</td>\n",
       "      <td>1</td>\n",
       "      <td>1</td>\n",
       "    </tr>\n",
       "    <tr>\n",
       "      <th>1</th>\n",
       "      <td>Donald Trump is running for president.</td>\n",
       "      <td>0</td>\n",
       "      <td>0</td>\n",
       "    </tr>\n",
       "  </tbody>\n",
       "</table>\n",
       "</div>"
      ],
      "text/plain": [
       "                                     Text  Hand_Labels  Predicted_Labels\n",
       "0            A tornado just hit New York.            1                 1\n",
       "1  Donald Trump is running for president.            0                 0"
      ]
     },
     "execution_count": 12,
     "metadata": {},
     "output_type": "execute_result"
    }
   ],
   "source": [
    "# Predicted labels using our zero-zhot classification model\n",
    "#%%time\n",
    "output = classifier(\n",
    "    df.Text.to_list(),\n",
    "    candidate_labels = [\"disaster\",\"not disaster\"],\n",
    ")\n",
    "\n",
    "#Extracting most probable labels from the output\n",
    "labels = [i['labels'][0] for i in output]\n",
    "\n",
    "#Mapping text labels to 0 or 1 \n",
    "labels = pd.Series(labels).map({'disaster':1,'not disaster': 0}).to_list()\n",
    "\n",
    "#Adding predicted labels to the example dataframe\n",
    "df['Predicted_Labels'] = labels\n",
    "df"
   ]
  },
  {
   "cell_type": "code",
   "execution_count": null,
   "id": "ca38667a-a088-4102-b143-f52cb535b819",
   "metadata": {
    "tags": []
   },
   "outputs": [],
   "source": []
  }
 ],
 "metadata": {
  "kernelspec": {
   "display_name": "Python 3 (ipykernel)",
   "language": "python",
   "name": "python3"
  },
  "language_info": {
   "codemirror_mode": {
    "name": "ipython",
    "version": 3
   },
   "file_extension": ".py",
   "mimetype": "text/x-python",
   "name": "python",
   "nbconvert_exporter": "python",
   "pygments_lexer": "ipython3",
   "version": "3.10.13"
  }
 },
 "nbformat": 4,
 "nbformat_minor": 5
}
